{
 "cells": [
  {
   "cell_type": "markdown",
   "id": "19f0c69a",
   "metadata": {},
   "source": [
    "## Loops\n",
    "Repeat a sequence of statements\n",
    "\n",
    "### Definite Loop\n",
    "Repeats a sequence of steps a predictable number of times \n",
    "\n",
    "#### Activity 1.1\n",
    "- create a for loop to print out i love python 10 times"
   ]
  },
  {
   "cell_type": "code",
   "execution_count": 1,
   "id": "3b537013",
   "metadata": {},
   "outputs": [
    {
     "name": "stdout",
     "output_type": "stream",
     "text": [
      "hello Daniel's classmate\n",
      "He said \"Hello back\"\n"
     ]
    }
   ],
   "source": [
    "print(\"hello Daniel's classmate\")\n",
    "print('He said \"Hello back\"')"
   ]
  },
  {
   "cell_type": "code",
   "execution_count": null,
   "id": "23c89a42",
   "metadata": {},
   "outputs": [],
   "source": []
  }
 ],
 "metadata": {
  "kernelspec": {
   "display_name": "Python 3 (ipykernel)",
   "language": "python",
   "name": "python3"
  },
  "language_info": {
   "codemirror_mode": {
    "name": "ipython",
    "version": 3
   },
   "file_extension": ".py",
   "mimetype": "text/x-python",
   "name": "python",
   "nbconvert_exporter": "python",
   "pygments_lexer": "ipython3",
   "version": "3.9.7"
  }
 },
 "nbformat": 4,
 "nbformat_minor": 5
}
