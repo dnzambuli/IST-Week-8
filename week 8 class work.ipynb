{
 "cells": [
  {
   "cell_type": "markdown",
   "id": "e33199a6",
   "metadata": {},
   "source": [
    "## Loops\n",
    "Repeat a sequence of statements\n",
    "\n",
    "### Definite Loop\n",
    "Repeats a sequence of steps a predictable number of times \n",
    "\n",
    "#### Activity 1.1\n",
    "- create a for loop to print out i love python 10 times"
   ]
  },
  {
   "cell_type": "code",
   "execution_count": 2,
   "id": "5adc449f",
   "metadata": {},
   "outputs": [
    {
     "name": "stdout",
     "output_type": "stream",
     "text": [
      "I love python\n",
      "\n",
      "I love python\n",
      "\n",
      "I love python\n",
      "\n",
      "I love python\n",
      "\n",
      "I love python\n",
      "\n",
      "I love python\n",
      "\n",
      "I love python\n",
      "\n",
      "I love python\n",
      "\n",
      "I love python\n",
      "\n",
      "I love python\n",
      "\n"
     ]
    }
   ],
   "source": [
    "for i in range (10):\n",
    "    print ('I love python\\n')"
   ]
  },
  {
   "cell_type": "markdown",
   "id": "8e296158",
   "metadata": {},
   "source": [
    "```notice``` The program repeats the line I love python \\n **10** times\n",
    "\n",
    "#### Activity 1.2\n",
    "- change the program to print out the values of i\n",
    "- label i as count"
   ]
  },
  {
   "cell_type": "code",
   "execution_count": 4,
   "id": "24f49ade",
   "metadata": {},
   "outputs": [
    {
     "name": "stdout",
     "output_type": "stream",
     "text": [
      "0\n",
      "1\n",
      "2\n",
      "3\n",
      "4\n",
      "5\n",
      "6\n",
      "7\n",
      "8\n",
      "9\n"
     ]
    }
   ],
   "source": [
    "for count in range(10):\n",
    "    print (count)"
   ]
  },
  {
   "cell_type": "markdown",
   "id": "1ddebc06",
   "metadata": {},
   "source": [
    "```notice``` Like other python programs indices start at **0** .\n",
    "\n",
    "#### Activity 1.3\n",
    "- print the same program but start from **9** and end at **0**"
   ]
  },
  {
   "cell_type": "code",
   "execution_count": 7,
   "id": "a54c04e6",
   "metadata": {},
   "outputs": [
    {
     "name": "stdout",
     "output_type": "stream",
     "text": [
      "9\n",
      "8\n",
      "7\n",
      "6\n",
      "5\n",
      "4\n",
      "3\n",
      "2\n",
      "1\n",
      "0\n"
     ]
    }
   ],
   "source": [
    "for count in range(9, -1, -1):\n",
    "    print (count)"
   ]
  },
  {
   "cell_type": "markdown",
   "id": "5c870bae",
   "metadata": {},
   "source": [
    "### Discovery\n",
    "```Range()``` takes in three parameters:\n",
    "- start point\n",
    "- endpoint (-1)\n",
    "- difference in the **AP(arithmetic progression)** sequence\n",
    "\n",
    "```By Default``` it takes :\n",
    "- endpoint "
   ]
  },
  {
   "cell_type": "code",
   "execution_count": null,
   "id": "a7818fcc",
   "metadata": {},
   "outputs": [],
   "source": [
    "for i in range(9, 0):\n",
    "    print(i)"
   ]
  }
 ],
 "metadata": {
  "kernelspec": {
   "display_name": "Python 3 (ipykernel)",
   "language": "python",
   "name": "python3"
  },
  "language_info": {
   "codemirror_mode": {
    "name": "ipython",
    "version": 3
   },
   "file_extension": ".py",
   "mimetype": "text/x-python",
   "name": "python",
   "nbconvert_exporter": "python",
   "pygments_lexer": "ipython3",
   "version": "3.9.7"
  }
 },
 "nbformat": 4,
 "nbformat_minor": 5
}
